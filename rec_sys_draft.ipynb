{
 "cells": [
  {
   "cell_type": "code",
   "execution_count": 1,
   "id": "d24d3416-f7b6-4591-8099-09d1a1ed3746",
   "metadata": {},
   "outputs": [],
   "source": [
    "import pandas as pd\n",
    "import re"
   ]
  },
  {
   "cell_type": "code",
   "execution_count": 2,
   "id": "98afe696-09f8-422c-a166-4857827adba1",
   "metadata": {},
   "outputs": [],
   "source": [
    "import warnings\n",
    "warnings.filterwarnings('ignore')"
   ]
  },
  {
   "cell_type": "markdown",
   "id": "3ac53dd0-0dfc-4be9-a44f-7a468be32b02",
   "metadata": {},
   "source": [
    "# Data loading and basic preprocessing\n",
    "* removing special characters, extra spaces, and converting to lowercase"
   ]
  },
  {
   "cell_type": "code",
   "execution_count": 5,
   "id": "033a3d3f",
   "metadata": {},
   "outputs": [
    {
     "name": "stdout",
     "output_type": "stream",
     "text": [
      "Processed data saved to data/processed/verses_processed.csv\n"
     ]
    }
   ],
   "source": [
    "import pandas as pd\n",
    "import re\n",
    "\n",
    "def load_raw_data(file_path: str) -> pd.DataFrame:\n",
    "    \"\"\"Load the raw dataset.\"\"\"\n",
    "    return pd.read_excel(file_path)\n",
    "\n",
    "def clean_text(text: str) -> str:\n",
    "    \"\"\"Clean text by removing special characters, extra spaces, and converting to lowercase.\"\"\"\n",
    "    if isinstance(text, str):\n",
    "        text = re.sub(r'\\s+', ' ', text)  # Remove extra spaces\n",
    "        text = re.sub(r'[^\\w\\s]', '', text)  # Remove special characters\n",
    "        return text.lower()\n",
    "    return text\n",
    "\n",
    "def preprocess_data(df: pd.DataFrame) -> pd.DataFrame:\n",
    "    \"\"\"Preprocess the dataset: clean specific columns.\"\"\"\n",
    "    for col in ['Sanskrit Anuvad', 'Hindi Anuvad', 'English Translation', 'Explanation']:\n",
    "        if col in df.columns:\n",
    "            df[col] = df[col].apply(clean_text)\n",
    "    return df\n",
    "\n",
    "def save_processed_data(df: pd.DataFrame, file_path: str):\n",
    "    \"\"\"Save the processed dataset to a file.\"\"\"\n",
    "    df.to_csv(file_path, index=False)\n",
    "\n",
    "if __name__ == \"__main__\":\n",
    "    # File paths\n",
    "    input_file = \"data/raw/verses_original.csv\"\n",
    "    output_file = \"data/processed/verses_processed.csv\"\n",
    "\n",
    "    # Data processing steps\n",
    "    raw_data = load_raw_data('data/raw/temp_dataset.xlsx')\n",
    "    processed_data = preprocess_data(raw_data)\n",
    "    save_processed_data(processed_data, output_file)\n",
    "    print(f\"Processed data saved to {output_file}\")\n"
   ]
  },
  {
   "cell_type": "markdown",
   "id": "233148a3-5cf8-4a00-8f65-c7e0ba5e005f",
   "metadata": {},
   "source": [
    "# generating embeddings for content-nased filetering using TF-IDF"
   ]
  },
  {
   "cell_type": "code",
   "execution_count": 6,
   "id": "06b8b57d-41f5-4bfb-bc92-dc0da941e10f",
   "metadata": {},
   "outputs": [
    {
     "name": "stdout",
     "output_type": "stream",
     "text": [
      "Embeddings saved to models/content_based/verse_embeddings.npy\n",
      "TF-IDF model saved to models/content_based/tfidf_model.pkl\n"
     ]
    }
   ],
   "source": [
    "\n",
    "from sklearn.feature_extraction.text import TfidfVectorizer\n",
    "import numpy as np\n",
    "import pickle\n",
    "\n",
    "def load_processed_data(file_path: str) -> pd.DataFrame:\n",
    "    \"\"\"Load the processed dataset.\"\"\"\n",
    "    return pd.read_csv(file_path)\n",
    "\n",
    "def generate_tfidf_embeddings(df: pd.DataFrame, column: str) -> np.ndarray:\n",
    "    \"\"\"Generate TF-IDF embeddings for a specific column.\"\"\"\n",
    "    vectorizer = TfidfVectorizer(\n",
    "        stop_words='english',\n",
    "        max_df=0.8,   # Ignore terms that appear in more than 80% of documents\n",
    "        min_df=2,     # Ignore terms that appear in fewer than 2 documents\n",
    "        ngram_range=(1, 2)  # Use unigrams and bigrams\n",
    "    )\n",
    "    embeddings = vectorizer.fit_transform(df[column].fillna(\"\"))\n",
    "    return embeddings, vectorizer\n",
    "\n",
    "\n",
    "def save_embeddings(embeddings, model, embeddings_file: str, model_file: str):\n",
    "    \"\"\"Save the embeddings and TF-IDF model.\"\"\"\n",
    "    np.save(embeddings_file, embeddings.toarray())\n",
    "    with open(model_file, 'wb') as f:\n",
    "        pickle.dump(model, f)\n",
    "\n",
    "if __name__ == \"__main__\":\n",
    "    # File paths\n",
    "    input_file = \"data/processed/verses_processed.csv\"\n",
    "    embeddings_file = \"models/content_based/verse_embeddings.npy\"\n",
    "    model_file = \"models/content_based/tfidf_model.pkl\"\n",
    "\n",
    "    # Load processed data\n",
    "    processed_data = load_processed_data(input_file)\n",
    "\n",
    "    # Generate embeddings\n",
    "    embeddings, tfidf_model = generate_tfidf_embeddings(processed_data, 'Explanation')\n",
    "\n",
    "    # Save embeddings and model\n",
    "    save_embeddings(embeddings, tfidf_model, embeddings_file, model_file)\n",
    "    print(f\"Embeddings saved to {embeddings_file}\")\n",
    "    print(f\"TF-IDF model saved to {model_file}\")\n"
   ]
  },
  {
   "cell_type": "markdown",
   "id": "93d0cbd3-9057-4349-9650-912438095428",
   "metadata": {},
   "source": [
    "# content based"
   ]
  },
  {
   "cell_type": "code",
   "execution_count": 7,
   "id": "c25b2071-4815-40a8-87fa-78aa6ea98636",
   "metadata": {},
   "outputs": [
    {
     "name": "stdout",
     "output_type": "stream",
     "text": [
      "                    Title    Chapter       Verse Explanation  similarity_score\n",
      "18  Arjuna's Vishada Yoga  Chapter 1  Verse 1.19         NaN               0.0\n",
      "17  Arjuna's Vishada Yoga  Chapter 1  Verse 1.18         NaN               0.0\n",
      "16  Arjuna's Vishada Yoga  Chapter 1  Verse 1.17         NaN               0.0\n",
      "15  Arjuna's Vishada Yoga  Chapter 1  Verse 1.16         NaN               0.0\n",
      "14  Arjuna's Vishada Yoga  Chapter 1  Verse 1.15         NaN               0.0\n"
     ]
    }
   ],
   "source": [
    "import pandas as pd\n",
    "import numpy as np\n",
    "import pickle\n",
    "from sklearn.metrics.pairwise import cosine_similarity\n",
    "\n",
    "def load_embeddings(embeddings_file: str, model_file: str):\n",
    "    \"\"\"Load pre-saved embeddings and the TF-IDF model.\"\"\"\n",
    "    embeddings = np.load(embeddings_file)\n",
    "    with open(model_file, 'rb') as f:\n",
    "        model = pickle.load(f)\n",
    "    return embeddings, model\n",
    "\n",
    "def find_similar_verses(user_input: str, tfidf_model, embeddings, data_file: str, top_n: int = 5):\n",
    "    \"\"\"Find top-N similar verses to the user's input.\"\"\"\n",
    "    # Load the processed dataset\n",
    "    data = pd.read_csv(data_file)\n",
    "    \n",
    "    # Combine multiple fields for similarity (e.g., Explanation + Keywords Tags)\n",
    "    combined_texts = data['Explanation'] + \" \" + data['Keywords Tags']\n",
    "    embeddings = tfidf_model.fit_transform(combined_texts.fillna(\"\"))\n",
    "\n",
    "    # Transform user input\n",
    "    user_vector = tfidf_model.transform([user_input])\n",
    "    \n",
    "    # Calculate cosine similarity\n",
    "    similarities = cosine_similarity(user_vector, embeddings).flatten()\n",
    "\n",
    "    # Get top-N similar verses\n",
    "    top_indices = similarities.argsort()[-top_n:][::-1]\n",
    "    recommendations = data.iloc[top_indices]\n",
    "    recommendations['similarity_score'] = similarities[top_indices]\n",
    "\n",
    "    return recommendations[['Title', 'Chapter', 'Verse', 'Explanation', 'similarity_score']]\n",
    "\n",
    "if __name__ == \"__main__\":\n",
    "    # File paths\n",
    "    embeddings_file = \"models/content_based/verse_embeddings.npy\"\n",
    "    model_file = \"models/content_based/tfidf_model.pkl\"\n",
    "    data_file = \"data/processed/verses_processed.csv\"\n",
    "    \n",
    "    # User input\n",
    "    # user_input = \"I am facing moral dilemmas in my decisions at work.\"\n",
    "    user_input = \"I am not feeling happy because of personal relationship issues\"\n",
    "    \n",
    "    # Load embeddings and TF-IDF model\n",
    "    embeddings, tfidf_model = load_embeddings(embeddings_file, model_file)\n",
    "    \n",
    "    # Get recommendations\n",
    "    recommendations = find_similar_verses(user_input, tfidf_model, embeddings, data_file)\n",
    "    print(recommendations)\n"
   ]
  },
  {
   "cell_type": "code",
   "execution_count": 8,
   "id": "bda6a51e-f221-46f4-bec7-61d150b7a3af",
   "metadata": {},
   "outputs": [
    {
     "data": {
      "text/html": [
       "<div>\n",
       "<style scoped>\n",
       "    .dataframe tbody tr th:only-of-type {\n",
       "        vertical-align: middle;\n",
       "    }\n",
       "\n",
       "    .dataframe tbody tr th {\n",
       "        vertical-align: top;\n",
       "    }\n",
       "\n",
       "    .dataframe thead th {\n",
       "        text-align: right;\n",
       "    }\n",
       "</style>\n",
       "<table border=\"1\" class=\"dataframe\">\n",
       "  <thead>\n",
       "    <tr style=\"text-align: right;\">\n",
       "      <th></th>\n",
       "      <th>Title</th>\n",
       "      <th>Chapter</th>\n",
       "      <th>Verse</th>\n",
       "      <th>Explanation</th>\n",
       "      <th>similarity_score</th>\n",
       "    </tr>\n",
       "  </thead>\n",
       "  <tbody>\n",
       "    <tr>\n",
       "      <th>18</th>\n",
       "      <td>Arjuna's Vishada Yoga</td>\n",
       "      <td>Chapter 1</td>\n",
       "      <td>Verse 1.19</td>\n",
       "      <td>NaN</td>\n",
       "      <td>0.0</td>\n",
       "    </tr>\n",
       "    <tr>\n",
       "      <th>17</th>\n",
       "      <td>Arjuna's Vishada Yoga</td>\n",
       "      <td>Chapter 1</td>\n",
       "      <td>Verse 1.18</td>\n",
       "      <td>NaN</td>\n",
       "      <td>0.0</td>\n",
       "    </tr>\n",
       "    <tr>\n",
       "      <th>16</th>\n",
       "      <td>Arjuna's Vishada Yoga</td>\n",
       "      <td>Chapter 1</td>\n",
       "      <td>Verse 1.17</td>\n",
       "      <td>NaN</td>\n",
       "      <td>0.0</td>\n",
       "    </tr>\n",
       "    <tr>\n",
       "      <th>15</th>\n",
       "      <td>Arjuna's Vishada Yoga</td>\n",
       "      <td>Chapter 1</td>\n",
       "      <td>Verse 1.16</td>\n",
       "      <td>NaN</td>\n",
       "      <td>0.0</td>\n",
       "    </tr>\n",
       "    <tr>\n",
       "      <th>14</th>\n",
       "      <td>Arjuna's Vishada Yoga</td>\n",
       "      <td>Chapter 1</td>\n",
       "      <td>Verse 1.15</td>\n",
       "      <td>NaN</td>\n",
       "      <td>0.0</td>\n",
       "    </tr>\n",
       "  </tbody>\n",
       "</table>\n",
       "</div>"
      ],
      "text/plain": [
       "                    Title    Chapter       Verse Explanation  similarity_score\n",
       "18  Arjuna's Vishada Yoga  Chapter 1  Verse 1.19         NaN               0.0\n",
       "17  Arjuna's Vishada Yoga  Chapter 1  Verse 1.18         NaN               0.0\n",
       "16  Arjuna's Vishada Yoga  Chapter 1  Verse 1.17         NaN               0.0\n",
       "15  Arjuna's Vishada Yoga  Chapter 1  Verse 1.16         NaN               0.0\n",
       "14  Arjuna's Vishada Yoga  Chapter 1  Verse 1.15         NaN               0.0"
      ]
     },
     "execution_count": 8,
     "metadata": {},
     "output_type": "execute_result"
    }
   ],
   "source": [
    "recommendations.head()"
   ]
  },
  {
   "cell_type": "code",
   "execution_count": null,
   "id": "26fc319f-e83e-4e59-bb4c-5e83fc4e2991",
   "metadata": {},
   "outputs": [],
   "source": []
  },
  {
   "cell_type": "code",
   "execution_count": null,
   "id": "a794b6be",
   "metadata": {},
   "outputs": [],
   "source": []
  }
 ],
 "metadata": {
  "kernelspec": {
   "display_name": "Python 3",
   "language": "python",
   "name": "python3"
  },
  "language_info": {
   "codemirror_mode": {
    "name": "ipython",
    "version": 3
   },
   "file_extension": ".py",
   "mimetype": "text/x-python",
   "name": "python",
   "nbconvert_exporter": "python",
   "pygments_lexer": "ipython3",
   "version": "3.12.1"
  }
 },
 "nbformat": 4,
 "nbformat_minor": 5
}
